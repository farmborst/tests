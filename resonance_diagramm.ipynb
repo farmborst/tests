{
 "cells": [
  {
   "cell_type": "raw",
   "metadata": {},
   "source": [
    "<script>\n",
    "  function code_toggle() {\n",
    "    if (code_shown){\n",
    "      $('div.input').hide('500');\n",
    "      $('#toggleButton').val('Show Code')\n",
    "    } else {\n",
    "      $('div.input').show('500');\n",
    "      $('#toggleButton').val('Hide Code')\n",
    "    }\n",
    "    code_shown = !code_shown\n",
    "  }\n",
    "\n",
    "  $( document ).ready(function(){\n",
    "    code_shown=false;\n",
    "    $('div.input').hide()\n",
    "  });\n",
    "</script>\n",
    "<form action=\"javascript:code_toggle()\"><input type=\"submit\" id=\"toggleButton\" value=\"Show Code\"></form>"
   ]
  },
  {
   "cell_type": "code",
   "execution_count": 1,
   "metadata": {
    "collapsed": true
   },
   "outputs": [],
   "source": [
    "import matplotlib.patches as patches\n",
    "from jupyterthemes import jtplot\n",
    "from __future__ import division, print_function\n",
    "from mpl_toolkits.axes_grid1 import make_axes_locatable\n",
    "# %matplotlib notebook\n",
    "# %matplotlib notebook\n",
    "%matplotlib inline\n",
    "%matplotlib inline\n",
    "jtplot.style('grade3')\n",
    "# jtplot.style('monokai')\n",
    "\n",
    "rcParams['savefig.format'] = 'png'\n",
    "rcParams['savefig.dpi'] = 800\n",
    "rcParams['savefig.transparent'] = False\n",
    "rcParams['savefig.pad_inches'] = 0.0\n",
    "rcParams['nbagg.transparent'] = False\n",
    "rcParams['legend.facecolor'] = 'inherit'\n",
    "rcParams['axes.titlesize'] = 18\n",
    "rcParams['axes.labelsize'] = 16\n",
    "rcParams['xtick.labelsize'] = 14\n",
    "rcParams['ytick.labelsize'] = 14\n",
    "rcParams['legend.fontsize'] = 18\n",
    "rcParams['font.size'] = 18"
   ]
  },
  {
   "cell_type": "markdown",
   "metadata": {},
   "source": [
    "### SINGLE TUNE RESONANCES\n",
    "$m \\cdot dQ = p \\quad\\forall\\; m, p \\in\\mathbb{Z}^* $ <br>\n",
    "order: $|m|$\n"
   ]
  },
  {
   "cell_type": "code",
   "execution_count": 20,
   "metadata": {},
   "outputs": [
    {
     "data": {
      "text/markdown": [
       "\n",
       "## SINGLE TUNE RESONANCES\n",
       "$m \\cdot dQ = p \\forall m, p \\in\\Z $\n",
       "order: $|m|$\n"
      ],
      "text/plain": [
       "<IPython.core.display.Markdown object>"
      ]
     },
     "metadata": {},
     "output_type": "display_data"
    },
    {
     "data": {
      "image/png": "[encoded data removed]",
      "text/plain": [
       "<matplotlib.figure.Figure at 0x7f0c60a28e10>"
      ]
     },
     "metadata": {},
     "output_type": "display_data"
    }
   ],
   "source": [
    "maxorder = 5\n",
    "axrange = [-0.03, 1.03]\n",
    "cmap = cm.rainbow\n",
    "colors = cmap(linspace(0, 1, maxorder))\n",
    "lws = linspace(3, 1, maxorder)\n",
    "\n",
    "def fraclabel(n,d):\n",
    "    return ('$\\\\frac{' + '{:}'.format(n) + '}{' + '{:}'.format(d) + '}$')\n",
    "\n",
    "fracs, ticklabels, orders = [0], ['0'], [0]\n",
    "for d in range(1, maxorder + 1):\n",
    "    for n in range(1, d):  # numerator/denominator\n",
    "        if n/d not in fracs:\n",
    "            orders.append(d - 1)\n",
    "            fracs.append(n/d)\n",
    "            ticklabels.append(fraclabel(n, d))\n",
    "fracs.append(1)\n",
    "ticklabels.append('1')\n",
    "orders.append(0)\n",
    "\n",
    "fig, ax = subplots(1, 1, figsize=[12, 10], frameon=False)\n",
    "for frac, order in zip(fracs, orders):\n",
    "    ax.plot([frac, frac], axrange, '-', zorder=190, lw=lws[order], c=colors[order])\n",
    "    ax.plot(axrange, [frac, frac], '-', zorder=200, lw=lws[order], c=colors[order])\n",
    "\n",
    "\n",
    "ax.set_xticks(fracs)\n",
    "ax.set_xticklabels(ticklabels, fontsize=24)\n",
    "ax.set_xlabel('$dQ_x$', fontsize=24)\n",
    "ax.set_xlim(axrange)\n",
    "\n",
    "ax.set_yticks(fracs)\n",
    "ax.set_yticklabels(ticklabels, fontsize=24, rotation=90, va='center')\n",
    "ax.set_ylabel('$dQ_y$', fontsize=24)\n",
    "ax.set_ylim(axrange)\n",
    "\n",
    "for key in ax.spines:\n",
    "    ax.spines[key].set_visible(0)\n",
    "\n",
    "ax.grid(0)\n",
    "ax.axis('equal')\n",
    "divider = make_axes_locatable(ax)\n",
    "cax = divider.append_axes(\"right\", size=\"5%\", pad=0.05)\n",
    "sm = cm.ScalarMappable(cmap=cmap, norm=plt.Normalize(vmin=0, vmax=maxorder-1))\n",
    "sm._A = []  # fake up the array of the scalar mappable.\n",
    "cbar = fig.colorbar(sm, cax=cax, orientation='vertical', ticks=range(maxorder))\n",
    "cbar.ax.set_yticklabels(range(1, maxorder + 1))  # horizontal colorbar\n",
    "\n",
    "fig.tight_layout()\n",
    "fig.show()\n",
    "fig.savefig('resonancediagramm_single.pdf')"
   ]
  },
  {
   "cell_type": "code",
   "execution_count": 26,
   "metadata": {},
   "outputs": [
    {
     "name": "stdout",
     "output_type": "stream",
     "text": [
      "0/1 1/1 \n",
      "0/1 1/2 1/1 \n",
      "0/1 1/3 1/2 2/3 1/1 \n",
      "0/1 1/4 1/3 1/2 2/3 3/4 1/1 \n",
      "0/1 1/5 1/4 1/3 2/5 1/2 3/5 2/3 3/4 4/5 1/1 \n",
      "0/1 1/6 1/5 1/4 1/3 2/5 1/2 3/5 2/3 3/4 4/5 5/6 1/1 \n",
      "0/1 1/7 1/6 1/5 1/4 2/7 1/3 2/5 3/7 1/2 4/7 3/5 2/3 5/7 3/4 4/5 5/6 6/7 1/1 \n",
      "0/1 1/8 1/7 1/6 1/5 1/4 2/7 1/3 3/8 2/5 3/7 1/2 4/7 3/5 5/8 2/3 5/7 3/4 4/5 5/6 6/7 7/8 1/1 \n"
     ]
    }
   ],
   "source": [
    "#### FAREY SEQUENCE\n",
    "''' ascending sequence of irreducible fractions between 0 and 1\n",
    "https://en.wikipedia.org/wiki/Farey_sequence\n",
    "see also \"From Farey sequences to resonance diagrams\", R. Tomás\n",
    "F_1 = [0/1,                          1/1]\n",
    "F_2 = [0/1,           1/2,           1/1]\n",
    "F_3 = [0/1,      1/3, 1/2, 2/3,      1/1]\n",
    "F_4 = [0/1, 1/4, 1/3, 1/2, 2/3, 3/4, 1/1]\n",
    "\n",
    "F_n   = [..., a/b, c/d, ...]\n",
    "F_b+d = [..., a/b, (a+c)/(b+d), c/d, ...]\n",
    "\n",
    "F_n_i = a/b\n",
    "F_n_j = c/d\n",
    "F_n_k = (floor((n+b)/d)*c - a)/(floor((n+b)/d)*d - b)\n",
    "'''\n",
    "\n",
    "def farey_sequence(n):\n",
    "    a, b, c, d = 0, 1, 1, n  # F_n's 1st and 2nd element\n",
    "    Fn = [[a, b]]\n",
    "    while c <= n:\n",
    "        Fn.append([c, d])\n",
    "        flr = int((n + b) / d)\n",
    "        a, b, c, d = c, d, (flr*c-a), (flr*d-b)\n",
    "    return Fn\n",
    "\n",
    "for n in range(1, 9):\n",
    "    Fn = farey_sequence(n)\n",
    "    for frac in Fn:\n",
    "        print('{:}/{:} '.format(frac[0], frac[1]), end='')\n",
    "    print()"
   ]
  },
  {
   "cell_type": "code",
   "execution_count": 40,
   "metadata": {},
   "outputs": [
    {
     "data": {
      "image/png": "[encoded data removed]",
      "text/plain": [
       "<matplotlib.figure.Figure at 0x7fd29d845950>"
      ]
     },
     "metadata": {},
     "output_type": "display_data"
    }
   ],
   "source": [
    "#### SINGLE TUNE RESONANCES ... are simple to find with farey\n",
    "#     m*dQ = p             with m, p Integer       order = |m|\n",
    "#     dQ = 1/j  ->  m = j  -> order = j\n",
    "\n",
    "maxorder = 5\n",
    "cmap = cm.rainbow\n",
    "colors = cmap(linspace(0, 1, maxorder))\n",
    "lws = linspace(3, 1, maxorder)\n",
    "\n",
    "fracs = farey_sequence(maxorder)\n",
    "ticklabels = [fraclabel(*frac) for frac in fracs]\n",
    "orders = [frac[1] - 1 for frac in fracs]\n",
    "fracs = [frac[0]/frac[1] for frac in fracs]\n",
    "\n",
    "fig, ax = subplots(1, 1, figsize=[12, 10], frameon=False)\n",
    "# RESONANCE LINES ON SINGLE TUNE RESONANCES\n",
    "for frac, order in zip(fracs, orders):\n",
    "    ax.plot([frac, frac], axrange, '-', lw=lws[order], c=colors[order])  # Qx\n",
    "    ax.plot(axrange, [frac, frac], '-', lw=lws[order], c=colors[order])  # Qy\n",
    "\n",
    "ax.set_xticks(fracs)\n",
    "ax.set_xticklabels(ticklabels, fontsize=24)\n",
    "ax.set_xlabel('$dQ_x$', fontsize=24)\n",
    "ax.set_xlim(axrange)\n",
    "\n",
    "ax.set_yticks(fracs)\n",
    "ax.set_yticklabels(ticklabels, fontsize=24, rotation=90, va='center')\n",
    "ax.set_ylabel('$dQ_y$', fontsize=24)\n",
    "ax.set_ylim(axrange)\n",
    "\n",
    "for key in ax.spines:\n",
    "    ax.spines[key].set_visible(0)\n",
    "\n",
    "ax.grid(0)\n",
    "axrange = [-0.03, 1.03]\n",
    "ax.axis('equal')\n",
    "divider = make_axes_locatable(ax)\n",
    "cax = divider.append_axes(\"right\", size=\"5%\", pad=0.05)\n",
    "sm = cm.ScalarMappable(cmap=cmap, norm=plt.Normalize(vmin=0, vmax=maxorder-1))\n",
    "sm._A = []  # fake up the array of the scalar mappable.\n",
    "cbar = fig.colorbar(sm, cax=cax, orientation='vertical', ticks=range(maxorder))\n",
    "cbar.ax.set_yticklabels(range(1, maxorder + 1))  # horizontal colorbar\n",
    "\n",
    "fig.tight_layout()\n",
    "fig.show()\n",
    "fig.savefig('resonancediagramm_single_farey.pdf')"
   ]
  },
  {
   "cell_type": "code",
   "execution_count": 37,
   "metadata": {
    "collapsed": true,
    "slideshow": {
     "slide_type": "slide"
    }
   },
   "outputs": [],
   "source": [
    "#### COUPLING RESONANCES\n",
    "#     m*dQx + n*dQy = p    with m, n, p Integer    order: |m| + |n|\n",
    "#     dQx = a/b, dQy = c/d  ->  m = j, n = k  ->   order = j + k\n",
    "\n",
    "# m*x + n*y = p\n",
    "# y = (p - m*x)/n\n",
    "#    m=-1, n=1  -> y = p + x   , p=0, 11 (2nd order: |m| + |n| = 2)\n",
    "#    m=-1, n=-1 -> y = -p - x  , p=0, 1 (2nd order: |m| + |n| = 2)\n",
    "#    "
   ]
  },
  {
   "cell_type": "code",
   "execution_count": 109,
   "metadata": {},
   "outputs": [
    {
     "data": {
      "image/png": "[encoded data removed]",
      "text/plain": [
       "<matplotlib.figure.Figure at 0x7ffb60c4d050>"
      ]
     },
     "metadata": {},
     "output_type": "display_data"
    }
   ],
   "source": [
    "fig, ax = subplots(1, 1, figsize=[12, 10], frameon=False)\n",
    "ax.grid(0)\n",
    "axrange = [-0.03, 1.03]\n",
    "cmap = cm.rainbow\n",
    "\n",
    "maxorder = 3\n",
    "\n",
    "colors = cmap(linspace(0, 1, 2*(maxorder + 1)))\n",
    "lws = linspace(3, 1, 2*(maxorder + 1))\n",
    "\n",
    "fracs = farey_sequence(maxorder)\n",
    "ticklabels = [fraclabel(*frac) for frac in fracs]\n",
    "orders = [frac[1] for frac in fracs]\n",
    "\n",
    "ordersmesh= meshgrid(orders, orders)\n",
    "fracs = [frac[0]/frac[1] for frac in fracs]\n",
    "fracmesh = meshgrid(fracs, fracs)\n",
    "\n",
    "\n",
    "\n",
    "# RESONANCE LINES ON SINGLE TUNE RESONANCES\n",
    "for frac, order in zip(fracs, orders):\n",
    "    ax.plot([frac, frac], axrange, '-', lw=lws[order], c=colors[order])  # Qx\n",
    "    ax.plot(axrange, [frac, frac], '-', lw=lws[order], c=colors[order])  # Qy\n",
    "\n",
    "\n",
    "fracs2 = farey_sequence(2*maxorder)[1:-1]\n",
    "orders = [frac[1] for frac in fracs2]\n",
    "ordersmesh= meshgrid(orders, orders)\n",
    "fracs2 = [frac[0]/frac[1] for frac in fracs2]\n",
    "fracmesh = meshgrid(fracs2, fracs2)\n",
    "\n",
    "# RESONANCE STARS ON COUPLING RESONANCES\n",
    "for frac1, frac2, order1, order2 in zip(fracmesh[0].flatten(), fracmesh[1].flatten(), ordersmesh[0].flatten(), ordersmesh[1].flatten()):\n",
    "    order = order1 + order2\n",
    "    if order <= 2*maxorder:\n",
    "        ax.plot(frac1, frac2, '*', ms=10, mew=5, c=colors[order])\n",
    "\n",
    "ax.set_xticks(fracs)\n",
    "ax.set_xticklabels(ticklabels, fontsize=24)\n",
    "ax.set_xlabel('$dQ_x$', fontsize=24)\n",
    "ax.set_xlim(axrange)\n",
    "\n",
    "ax.set_yticks(fracs)\n",
    "ax.set_yticklabels(ticklabels, fontsize=24, rotation=90, va='center')\n",
    "ax.set_ylabel('$dQ_y$', fontsize=24)\n",
    "ax.set_ylim(axrange)\n",
    "\n",
    "for key in ax.spines:\n",
    "    ax.spines[key].set_visible(0)\n",
    "\n",
    "ax.axis('equal')\n",
    "\n",
    "divider = make_axes_locatable(ax)\n",
    "cax = divider.append_axes(\"right\", size=\"5%\", pad=0.05)\n",
    "\n",
    "sm = cm.ScalarMappable(cmap=cmap, norm=plt.Normalize(vmin=0, vmax=maxorder-1))\n",
    "sm._A = []  # fake up the array of the scalar mappable.\n",
    "cbar = fig.colorbar(sm, cax=cax, orientation='vertical', ticks=range(maxorder))\n",
    "cbar.ax.set_yticklabels(range(1, maxorder + 1))  # horizontal colorbar\n",
    "\n",
    "fig.tight_layout()\n",
    "fig.show()\n",
    "# fig.savefig('resonancediagramm.pdf')"
   ]
  },
  {
   "cell_type": "code",
   "execution_count": 87,
   "metadata": {},
   "outputs": [
    {
     "name": "stdout",
     "output_type": "stream",
     "text": [
      "(2, 10, 10)\n",
      "(10, 10)\n",
      "(10, 10)\n"
     ]
    },
    {
     "data": {
      "image/png": "[encoded data removed]",
      "text/plain": [
       "<matplotlib.figure.Figure at 0x7ffb60fc6ed0>"
      ]
     },
     "metadata": {},
     "output_type": "display_data"
    }
   ],
   "source": [
    "x = range(10)\n",
    "y = range(10)\n",
    "xy = meshgrid(x, y)\n",
    "print(shape(xy))\n",
    "print(shape(xy[0]))\n",
    "print(shape(xy[1]))\n",
    "\n",
    "plot(xy[0], xy[1], '*b')\n",
    "show()"
   ]
  },
  {
   "cell_type": "code",
   "execution_count": 110,
   "metadata": {
    "collapsed": true
   },
   "outputs": [],
   "source": [
    "# define gcd function\n",
    "def gcd(x, y):\n",
    "   \"\"\"This function implements the Euclidian algorithm\n",
    "   to find greatest common divisor (gcd) of two numbers\"\"\"\n",
    "   while(y):\n",
    "       x, y = y, x % y\n",
    "   return x\n",
    "\n",
    "# define lcm function\n",
    "def lcm(x, y):\n",
    "   \"\"\"This function takes two\n",
    "   integers and returns the L.C.M.\"\"\"\n",
    "\n",
    "   lcm = (x*y)//gcd(x,y)\n",
    "   return lcm"
   ]
  },
  {
   "cell_type": "code",
   "execution_count": 113,
   "metadata": {},
   "outputs": [
    {
     "data": {
      "text/plain": [
       "3"
      ]
     },
     "execution_count": 113,
     "metadata": {},
     "output_type": "execute_result"
    }
   ],
   "source": [
    "gcd(3, 9)"
   ]
  }
 ],
 "metadata": {
  "kernelspec": {
   "display_name": "Python 2",
   "language": "python",
   "name": "python2"
  },
  "language_info": {
   "codemirror_mode": {
    "name": "ipython",
    "version": 2
   },
   "file_extension": ".py",
   "mimetype": "text/x-python",
   "name": "python",
   "nbconvert_exporter": "python",
   "pygments_lexer": "ipython2",
   "version": "2.7.9"
  }
 },
 "nbformat": 4,
 "nbformat_minor": 2
}
